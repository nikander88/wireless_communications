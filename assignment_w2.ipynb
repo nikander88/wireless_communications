{
  "cells": [
    {
      "metadata": {
        "collapsed": true
      },
      "cell_type": "markdown",
      "source": "# BL40A2020 Wireless Communication Systems\n\n## Assignment  week 2: Analog communication\n\n## Author:"
    },
    {
      "metadata": {},
      "cell_type": "markdown",
      "source": "### A) Follow the steps done in the [notes](https://github.com/pedrohjn/wireless-comm/blob/master/Week%202/week2.ipynb) to analyze the *Conventional AM* (Sec. 3.2.2)"
    },
    {
      "metadata": {},
      "cell_type": "markdown",
      "source": "**1. Define a generic message $m(t) = A_\\mathrm{m} \\cos(2\\pi f_\\mathrm{m} t + \\phi)$ and modulation equation [from eq. (3.5) p.96](https://www.ece.ucsb.edu/wcsl/Publications/intro_comm_systems_madhow_jan2014b.pdf) using sympy.**"
    },
    {
      "metadata": {
        "trusted": true
      },
      "cell_type": "code",
      "source": "",
      "execution_count": null,
      "outputs": []
    },
    {
      "metadata": {},
      "cell_type": "markdown",
      "source": "**2. Numerical example:**\n\n- Message: $m(t) =  \\cos{\\left (8 \\pi t + \\frac{\\pi}{3} \\right )}$\n- Modulation parameters: $A = A_\\mathrm{c} = 2$ and  $f_\\mathrm{c} = 50$\n\n(a) Plot the message, the transmitted signal, and their respective spectrum domain. Note that you should probably use other python libraries (scipy, numpy, and other for signal processing)."
    },
    {
      "metadata": {
        "trusted": true
      },
      "cell_type": "code",
      "source": "",
      "execution_count": null,
      "outputs": []
    },
    {
      "metadata": {},
      "cell_type": "markdown",
      "source": "(b) Implement the demodulation remembering that the message can be directly recovered by the envelope."
    },
    {
      "metadata": {
        "trusted": true
      },
      "cell_type": "code",
      "source": "",
      "execution_count": null,
      "outputs": []
    },
    {
      "metadata": {},
      "cell_type": "markdown",
      "source": "### B) Explain with your own words and in few lines the difference between *Angle Modulations* and *Amplidute Modulations*. "
    },
    {
      "metadata": {
        "trusted": true
      },
      "cell_type": "code",
      "source": "",
      "execution_count": null,
      "outputs": []
    }
  ],
  "metadata": {
    "kernelspec": {
      "name": "python36",
      "display_name": "Python 3.6",
      "language": "python"
    },
    "language_info": {
      "mimetype": "text/x-python",
      "nbconvert_exporter": "python",
      "name": "python",
      "pygments_lexer": "ipython3",
      "version": "3.6.6",
      "file_extension": ".py",
      "codemirror_mode": {
        "version": 3,
        "name": "ipython"
      }
    }
  },
  "nbformat": 4,
  "nbformat_minor": 2
}
